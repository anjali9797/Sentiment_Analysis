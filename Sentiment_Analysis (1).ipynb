{
  "nbformat": 4,
  "nbformat_minor": 0,
  "metadata": {
    "kernelspec": {
      "display_name": "Python 3",
      "language": "python",
      "name": "python3"
    },
    "language_info": {
      "codemirror_mode": {
        "name": "ipython",
        "version": 3
      },
      "file_extension": ".py",
      "mimetype": "text/x-python",
      "name": "python",
      "nbconvert_exporter": "python",
      "pygments_lexer": "ipython3",
      "version": "3.8.5"
    },
    "colab": {
      "name": "Sentiment_Analysis.ipynb",
      "provenance": [],
      "toc_visible": true
    },
    "accelerator": "GPU"
  },
  "cells": [
    {
      "cell_type": "markdown",
      "metadata": {
        "id": "YlwIwE3jSw9z"
      },
      "source": [
        "Importing the necessary packages"
      ]
    },
    {
      "cell_type": "code",
      "metadata": {
        "id": "FX6zhRhwSw93"
      },
      "source": [
        "import pandas as pd\n",
        "import csv\n",
        "import numpy as np\n",
        "import matplotlib\n",
        "import random\n",
        "from sklearn.metrics import accuracy_score\n",
        "import os\n",
        "from sklearn.dummy import DummyClassifier\n",
        "from sklearn.feature_extraction.text import CountVectorizer\n",
        "from sklearn.feature_extraction.text import TfidfTransformer\n",
        "from sklearn.feature_extraction.text import TfidfVectorizer\n",
        "import copy\n",
        "import re\n",
        "import nltk\n",
        "from nltk.corpus import stopwords\n",
        "from nltk.corpus import words\n",
        "import matplotlib.pyplot as plt "
      ],
      "execution_count": null,
      "outputs": []
    },
    {
      "cell_type": "code",
      "metadata": {
        "id": "aFJJ31ne1Xtp"
      },
      "source": [
        "from sklearn.ensemble import RandomForestClassifier\n",
        "from sklearn.linear_model import LogisticRegression\n",
        "from sklearn.neighbors import KNeighborsClassifier\n",
        "from sklearn.tree import DecisionTreeClassifier\n",
        "from sklearn.naive_bayes import GaussianNB"
      ],
      "execution_count": null,
      "outputs": []
    },
    {
      "cell_type": "code",
      "metadata": {
        "id": "NhXUoVMVUERy",
        "colab": {
          "base_uri": "https://localhost:8080/"
        },
        "outputId": "b27544c3-a50c-4bf8-83f1-fb2ccc72b81a"
      },
      "source": [
        "from google.colab import drive\n",
        "drive.mount('/content/drive')"
      ],
      "execution_count": null,
      "outputs": [
        {
          "output_type": "stream",
          "text": [
            "Mounted at /content/drive\n"
          ],
          "name": "stdout"
        }
      ]
    },
    {
      "cell_type": "code",
      "metadata": {
        "id": "S5aU7FtYSw95"
      },
      "source": [
        "#reading the data \n",
        "df=pd.read_csv(\"/content/drive/MyDrive/train.csv\",encoding=\"latin1\")\n",
        "#separating out the text and the labels\n",
        "#the 0th column contains the sentiment corresponding to the column and the 5th column contains the text of the tweet\n",
        "df=df.sample(frac=1)"
      ],
      "execution_count": null,
      "outputs": []
    },
    {
      "cell_type": "code",
      "metadata": {
        "id": "PXG8bnoASw96"
      },
      "source": [
        "data_x=df.iloc[:90500,5]\n",
        "data_y=df.iloc[:90500,0]"
      ],
      "execution_count": null,
      "outputs": []
    },
    {
      "cell_type": "code",
      "metadata": {
        "id": "7sbJwpXUSw96"
      },
      "source": [
        ""
      ],
      "execution_count": null,
      "outputs": []
    },
    {
      "cell_type": "code",
      "metadata": {
        "id": "nas8UXa8Sw98"
      },
      "source": [
        "#converting the labels\n",
        "data_y=list(data_y)\n",
        "#visualising the data we have\n",
        "num_neutral=0\n",
        "num_positive=0\n",
        "num_negative=0\n",
        "for i in data_y:\n",
        "    if(i==2):\n",
        "        num_neutral=num_neutral+1\n",
        "    elif(i==4):\n",
        "        num_positive=num_positive+1\n",
        "    else:\n",
        "        num_negative=num_negative+1\n"
      ],
      "execution_count": null,
      "outputs": []
    },
    {
      "cell_type": "code",
      "metadata": {
        "id": "kKOrIzFpehgy"
      },
      "source": [
        ""
      ],
      "execution_count": null,
      "outputs": []
    },
    {
      "cell_type": "code",
      "metadata": {
        "id": "LIItflEESw98",
        "colab": {
          "base_uri": "https://localhost:8080/",
          "height": 498
        },
        "outputId": "d034ae6d-4475-4c7e-c232-52a76081a876"
      },
      "source": [
        "x = ['Negative Tweets','Neutral Tweets','Positive Tweets']\n",
        "fig = plt.figure(figsize = (10, 8)) \n",
        "plt.bar(x[0], num_negative, color ='pink', width = 0.2) \n",
        "#plt.bar(x[1], num_neutral, color ='pink', width = 0.2) \n",
        "plt.bar(x[2], num_positive, color ='green', width = 0.2) \n",
        "plt.xlabel(\"\") \n",
        "plt.ylabel(\"No of tweets\") \n",
        "plt.title(\"Comparing the Number of positive and negative tweets\") \n",
        "plt.show() "
      ],
      "execution_count": null,
      "outputs": [
        {
          "output_type": "display_data",
          "data": {
            "image/png": "[encoded data removed]",
            "text/plain": [
              "<Figure size 720x576 with 1 Axes>"
            ]
          },
          "metadata": {
            "tags": [],
            "needs_background": "light"
          }
        }
      ]
    },
    {
      "cell_type": "code",
      "metadata": {
        "id": "3PFAM6Q4Sw99"
      },
      "source": [
        ""
      ],
      "execution_count": null,
      "outputs": []
    },
    {
      "cell_type": "code",
      "metadata": {
        "id": "DD_68Nh7Sw9-"
      },
      "source": [
        "#Analysing the train and test data and separating accordingly"
      ],
      "execution_count": null,
      "outputs": []
    },
    {
      "cell_type": "code",
      "metadata": {
        "id": "8V4bht_OSw9-"
      },
      "source": [
        ""
      ],
      "execution_count": null,
      "outputs": []
    },
    {
      "cell_type": "code",
      "metadata": {
        "id": "c9WrqzjWSw9_",
        "colab": {
          "base_uri": "https://localhost:8080/"
        },
        "outputId": "e2cbcf4e-44fd-411e-cdc4-2b41473f0938"
      },
      "source": [
        "#downloading stopwords\n",
        "import nltk\n",
        "nltk.download('stopwords')\n",
        "stops=set(stopwords.words('english'))"
      ],
      "execution_count": null,
      "outputs": [
        {
          "output_type": "stream",
          "text": [
            "[nltk_data] Downloading package stopwords to /root/nltk_data...\n",
            "[nltk_data]   Unzipping corpora/stopwords.zip.\n"
          ],
          "name": "stdout"
        }
      ]
    },
    {
      "cell_type": "code",
      "metadata": {
        "id": "XSFvI6b0Sw9_",
        "colab": {
          "base_uri": "https://localhost:8080/"
        },
        "outputId": "0d98c8ea-b57a-46d7-af4d-d55e20d07c62"
      },
      "source": [
        "nltk.download('words')\n",
        "setofwords = set(words.words())"
      ],
      "execution_count": null,
      "outputs": [
        {
          "output_type": "stream",
          "text": [
            "[nltk_data] Downloading package words to /root/nltk_data...\n",
            "[nltk_data]   Unzipping corpora/words.zip.\n"
          ],
          "name": "stdout"
        }
      ]
    },
    {
      "cell_type": "markdown",
      "metadata": {
        "id": "sll8RPe_Sw-A"
      },
      "source": [
        "## Function to clean the data for Further Processing "
      ]
    },
    {
      "cell_type": "code",
      "metadata": {
        "id": "bh-s0DxqSw-A"
      },
      "source": [
        "def clean_data(data):\n",
        "    datas=data.values.tolist()\n",
        "    for i in range(len(data)):\n",
        "        s=datas[i]\n",
        "        #converting to lower case for convinience\n",
        "        s=s.lower().split()\n",
        "        #now let us remove the stop words\n",
        "        tes=list()\n",
        "        for w in s:\n",
        "            if \"https\" in w:\n",
        "                continue\n",
        "            if w not in stops:\n",
        "                if w.isnumeric()==False:\n",
        "                    if w[0]!='@' and w[0]!=\"#\":\n",
        "                        if len(w)>=2:\n",
        "                            tes.append(w)\n",
        "        tes=\" \".join(tes)\n",
        "        #replacing nums and other characters\n",
        "        tes=re.sub(r'https?://[A-Za-z0-9./]+','',tes)\n",
        "        tes=re.sub(r\"[0-9^,!.\\/''+-=]\",\" \",tes)\n",
        "        tes=re.sub(r\",\",\" \",tes)\n",
        "        tes=re.sub(r\"!\",\" \",tes)\n",
        "        tes=re.sub(r\"#\",\"\",tes)\n",
        "        tes=re.sub(r\"$\",\"\",tes)\n",
        "        tes=re.sub(r\"%\",\"\",tes)\n",
        "        tes=re.sub(r\"^\",\"\",tes)\n",
        "        tes=re.sub(r\"&\",\"\",tes)\n",
        "        tes=re.sub(r\"\\*\",\"\",tes)\n",
        "        tes=re.sub(r\"\\(\",\" \",tes)\n",
        "        tes=re.sub(r\"\\)\",\" \",tes)\n",
        "        tes=re.sub(r\"_\",\" \",tes)\n",
        "        tes=re.sub(r\":\",\"\",tes)\n",
        "        tes=re.sub(r\"-\",\" \",tes)\n",
        "        datas[i]=tes\n",
        "    return datas"
      ],
      "execution_count": null,
      "outputs": []
    },
    {
      "cell_type": "code",
      "metadata": {
        "id": "mkvFzX8jSw-B",
        "colab": {
          "base_uri": "https://localhost:8080/"
        },
        "outputId": "1a790664-39b9-4833-a774-5ead69219b38"
      },
      "source": [
        "data_X=clean_data(data_x)\n",
        "print(len(data_X))"
      ],
      "execution_count": null,
      "outputs": [
        {
          "output_type": "stream",
          "text": [
            "90500\n"
          ],
          "name": "stdout"
        }
      ]
    },
    {
      "cell_type": "code",
      "metadata": {
        "id": "8Q5RugWVSw-C"
      },
      "source": [
        ""
      ],
      "execution_count": null,
      "outputs": []
    },
    {
      "cell_type": "code",
      "metadata": {
        "id": "03B31DTlSw-C"
      },
      "source": [
        "def get_label(datas):\n",
        "    #datas=datas.values.tolist()\n",
        "    ans=list()\n",
        "    for i in range(len(datas)):\n",
        "        if datas[i] == 4:\n",
        "            ans.append(0)\n",
        "        else:\n",
        "            ans.append(1)\n",
        "    return datas"
      ],
      "execution_count": null,
      "outputs": []
    },
    {
      "cell_type": "code",
      "metadata": {
        "id": "LAodixxMSw-D"
      },
      "source": [
        "data_Y=get_label(data_y)"
      ],
      "execution_count": null,
      "outputs": []
    },
    {
      "cell_type": "code",
      "metadata": {
        "id": "7fb4G-egSw-E"
      },
      "source": [
        "cv = CountVectorizer(max_features = 2000)\n",
        "data_x = cv.fit_transform(data_X).toarray()\n",
        "from sklearn.model_selection import train_test_split\n",
        "X_train, X_test, y_train, y_test = train_test_split(data_x, data_Y, test_size = 0.01, random_state=0)"
      ],
      "execution_count": null,
      "outputs": []
    },
    {
      "cell_type": "code",
      "metadata": {
        "id": "tE0e5ZCaQsUt",
        "colab": {
          "base_uri": "https://localhost:8080/"
        },
        "outputId": "4d6a8031-7f2c-4235-d464-5ecf21ef653f"
      },
      "source": [
        "classifier_np = GaussianNB()\n",
        "classifier_np.fit(X_train, y_train)\n",
        "print(len(X_train))"
      ],
      "execution_count": null,
      "outputs": [
        {
          "output_type": "stream",
          "text": [
            "89595\n"
          ],
          "name": "stdout"
        }
      ]
    },
    {
      "cell_type": "code",
      "metadata": {
        "id": "VGw8pKDv9N9m"
      },
      "source": [
        "\n",
        "y_pred = classifier_np.predict(X_test)\n",
        "from sklearn.metrics import confusion_matrix, accuracy_score\n",
        "acc1=accuracy_score(y_test,y_pred)"
      ],
      "execution_count": null,
      "outputs": []
    },
    {
      "cell_type": "code",
      "metadata": {
        "colab": {
          "base_uri": "https://localhost:8080/",
          "height": 301
        },
        "id": "nkqGxDDhCaGo",
        "outputId": "770bb728-0152-4fcd-a670-4fe78153686d"
      },
      "source": [
        "print(acc1)\n",
        "import seaborn as sns\n",
        "conf=confusion_matrix(y_test,y_pred)\n",
        "sns.heatmap(conf, annot=True, cmap='Blues', fmt=\".1f\")\n",
        "from sklearn.metrics import f1_score\n",
        "f11=f1_score(y_test,y_pred,average='micro')\n",
        "print(f11)"
      ],
      "execution_count": null,
      "outputs": [
        {
          "output_type": "stream",
          "text": [
            "0.7060773480662983\n",
            "0.7060773480662983\n"
          ],
          "name": "stdout"
        },
        {
          "output_type": "display_data",
          "data": {
            "image/png": "[encoded data removed]",
            "text/plain": [
              "<Figure size 432x288 with 2 Axes>"
            ]
          },
          "metadata": {
            "tags": [],
            "needs_background": "light"
          }
        }
      ]
    },
    {
      "cell_type": "code",
      "metadata": {
        "id": "7pl0XeGXSw-E",
        "colab": {
          "base_uri": "https://localhost:8080/"
        },
        "outputId": "b02e7504-9601-4a3c-b3d8-f9fdee3f5486"
      },
      "source": [
        "from sklearn.linear_model import LogisticRegression\n",
        "model = LogisticRegression(max_iter=2000)\n",
        "model.fit(X_train, y_train)\n",
        "    "
      ],
      "execution_count": null,
      "outputs": [
        {
          "output_type": "execute_result",
          "data": {
            "text/plain": [
              "LogisticRegression(C=1.0, class_weight=None, dual=False, fit_intercept=True,\n",
              "                   intercept_scaling=1, l1_ratio=None, max_iter=2000,\n",
              "                   multi_class='auto', n_jobs=None, penalty='l2',\n",
              "                   random_state=None, solver='lbfgs', tol=0.0001, verbose=0,\n",
              "                   warm_start=False)"
            ]
          },
          "metadata": {
            "tags": []
          },
          "execution_count": 26
        }
      ]
    },
    {
      "cell_type": "code",
      "metadata": {
        "id": "ZTgzxeYWSw-F",
        "colab": {
          "base_uri": "https://localhost:8080/",
          "height": 304
        },
        "outputId": "3bca9146-6e49-47f9-e237-5f0651c62d44"
      },
      "source": [
        "y_pred = model.predict(X_test)\n",
        "acc2=accuracy_score(y_test,y_pred)\n",
        "print(acc2)\n",
        "conf=confusion_matrix(y_test,y_pred)\n",
        "sns.heatmap(conf, annot=True, cmap='Blues', fmt=\".1f\")\n",
        "from sklearn.metrics import f1_score\n",
        "f12=f1_score(y_test,y_pred,average='macro')\n",
        "print(f12)"
      ],
      "execution_count": null,
      "outputs": [
        {
          "output_type": "stream",
          "text": [
            "0.7491712707182321\n",
            "0.7490229566997866\n"
          ],
          "name": "stdout"
        },
        {
          "output_type": "display_data",
          "data": {
            "image/png": "[encoded data removed]",
            "text/plain": [
              "<Figure size 432x288 with 2 Axes>"
            ]
          },
          "metadata": {
            "tags": [],
            "needs_background": "light"
          }
        }
      ]
    },
    {
      "cell_type": "code",
      "metadata": {
        "colab": {
          "base_uri": "https://localhost:8080/",
          "height": 304
        },
        "id": "0W3WHA_AG8tu",
        "outputId": "da0934a1-7e58-4b5c-ec1b-7f0e6665aa60"
      },
      "source": [
        "classifier_dt = DecisionTreeClassifier(criterion = 'entropy', random_state = 0)\n",
        "classifier_dt.fit(X_train, y_train)\n",
        "pred=classifier_dt.predict(X_test)\n",
        "acc3=accuracy_score(y_test,pred)\n",
        "print(acc3)\n",
        "conf=confusion_matrix(y_test,y_pred)\n",
        "sns.heatmap(conf, annot=True, cmap='Blues', fmt=\".1f\")\n"
      ],
      "execution_count": null,
      "outputs": [
        {
          "output_type": "stream",
          "text": [
            "0.6983425414364641\n"
          ],
          "name": "stdout"
        },
        {
          "output_type": "execute_result",
          "data": {
            "text/plain": [
              "<matplotlib.axes._subplots.AxesSubplot at 0x7f9175437110>"
            ]
          },
          "metadata": {
            "tags": []
          },
          "execution_count": 31
        },
        {
          "output_type": "display_data",
          "data": {
            "image/png": "[encoded data removed]",
            "text/plain": [
              "<Figure size 432x288 with 2 Axes>"
            ]
          },
          "metadata": {
            "tags": [],
            "needs_background": "light"
          }
        }
      ]
    },
    {
      "cell_type": "code",
      "metadata": {
        "id": "jTnp4DR3VV7G"
      },
      "source": [
        ""
      ],
      "execution_count": null,
      "outputs": []
    },
    {
      "cell_type": "code",
      "metadata": {
        "colab": {
          "base_uri": "https://localhost:8080/"
        },
        "id": "3rsj_wOgJBf-",
        "outputId": "20dcb733-2fbc-4323-92f0-5c1feb9dd7c1"
      },
      "source": [
        "classifier_rf = RandomForestClassifier(n_estimators = 10, criterion = 'entropy', random_state = 0)\n",
        "classifier_rf.fit(X_train, y_train)"
      ],
      "execution_count": null,
      "outputs": [
        {
          "output_type": "execute_result",
          "data": {
            "text/plain": [
              "RandomForestClassifier(bootstrap=True, ccp_alpha=0.0, class_weight=None,\n",
              "                       criterion='entropy', max_depth=None, max_features='auto',\n",
              "                       max_leaf_nodes=None, max_samples=None,\n",
              "                       min_impurity_decrease=0.0, min_impurity_split=None,\n",
              "                       min_samples_leaf=1, min_samples_split=2,\n",
              "                       min_weight_fraction_leaf=0.0, n_estimators=10,\n",
              "                       n_jobs=None, oob_score=False, random_state=0, verbose=0,\n",
              "                       warm_start=False)"
            ]
          },
          "metadata": {
            "tags": []
          },
          "execution_count": 32
        }
      ]
    },
    {
      "cell_type": "code",
      "metadata": {
        "colab": {
          "base_uri": "https://localhost:8080/",
          "height": 304
        },
        "id": "_EiK3k4RVXB5",
        "outputId": "a2dfc989-5ea8-4b99-9d97-b31aa902c7b6"
      },
      "source": [
        "pred=classifier_rf.predict(X_test)\n",
        "acc4=accuracy_score(y_test,pred)\n",
        "print(acc4)\n",
        "conf=confusion_matrix(y_test,y_pred)\n",
        "sns.heatmap(conf, annot=True, cmap='Blues', fmt=\".1f\")\n"
      ],
      "execution_count": null,
      "outputs": [
        {
          "output_type": "stream",
          "text": [
            "0.7314917127071823\n"
          ],
          "name": "stdout"
        },
        {
          "output_type": "execute_result",
          "data": {
            "text/plain": [
              "<matplotlib.axes._subplots.AxesSubplot at 0x7f9188665d90>"
            ]
          },
          "metadata": {
            "tags": []
          },
          "execution_count": 33
        },
        {
          "output_type": "display_data",
          "data": {
            "image/png": "[encoded data removed]",
            "text/plain": [
              "<Figure size 432x288 with 2 Axes>"
            ]
          },
          "metadata": {
            "tags": [],
            "needs_background": "light"
          }
        }
      ]
    },
    {
      "cell_type": "code",
      "metadata": {
        "id": "BWa39TBMVtpz"
      },
      "source": [
        "from sklearn.ensemble import StackingClassifier\n",
        "level0 = list()\n",
        "level0.append(('rff', RandomForestClassifier(n_estimators=10)))\n",
        "level0.append(('gnb',GaussianNB()))\n",
        "level0.append(('l',LogisticRegression(max_iter=2000)))\n",
        "model = StackingClassifier(estimators=level0, final_estimator=LogisticRegression(max_iter=2000), cv=4)"
      ],
      "execution_count": null,
      "outputs": []
    },
    {
      "cell_type": "code",
      "metadata": {
        "colab": {
          "base_uri": "https://localhost:8080/",
          "height": 302
        },
        "id": "E8iNX4uNasAl",
        "outputId": "e021209c-db07-4977-a491-66792c577235"
      },
      "source": [
        "model.fit(X_train, y_train)\n",
        "y_pred = model.predict(X_test)\n",
        "acc5=accuracy_score(y_test,y_pred)\n",
        "print(acc5)\n",
        "conf=confusion_matrix(y_test,y_pred)\n",
        "sns.heatmap(conf, annot=True, cmap='Blues', fmt=\".1f\")\n"
      ],
      "execution_count": null,
      "outputs": [
        {
          "output_type": "stream",
          "text": [
            "0.7701657458563536\n"
          ],
          "name": "stdout"
        },
        {
          "output_type": "execute_result",
          "data": {
            "text/plain": [
              "<matplotlib.axes._subplots.AxesSubplot at 0x7f917ba99c50>"
            ]
          },
          "metadata": {
            "tags": []
          },
          "execution_count": 35
        },
        {
          "output_type": "display_data",
          "data": {
            "image/png": "[encoded data removed]",
            "text/plain": [
              "<Figure size 432x288 with 2 Axes>"
            ]
          },
          "metadata": {
            "tags": [],
            "needs_background": "light"
          }
        }
      ]
    },
    {
      "cell_type": "code",
      "metadata": {
        "id": "Q7Y2y4sKyAyh"
      },
      "source": [
        "print(acc2)"
      ],
      "execution_count": null,
      "outputs": []
    },
    {
      "cell_type": "code",
      "metadata": {
        "id": "VSygdAJHyVxa",
        "colab": {
          "base_uri": "https://localhost:8080/"
        },
        "outputId": "e6147019-0a16-4387-9f46-956f477a36bb"
      },
      "source": [
        "model.fit(data_x,data_Y)"
      ],
      "execution_count": null,
      "outputs": [
        {
          "output_type": "execute_result",
          "data": {
            "text/plain": [
              "StackingClassifier(cv=4,\n",
              "                   estimators=[('rff',\n",
              "                                RandomForestClassifier(bootstrap=True,\n",
              "                                                       ccp_alpha=0.0,\n",
              "                                                       class_weight=None,\n",
              "                                                       criterion='gini',\n",
              "                                                       max_depth=None,\n",
              "                                                       max_features='auto',\n",
              "                                                       max_leaf_nodes=None,\n",
              "                                                       max_samples=None,\n",
              "                                                       min_impurity_decrease=0.0,\n",
              "                                                       min_impurity_split=None,\n",
              "                                                       min_samples_leaf=1,\n",
              "                                                       min_samples_split=2,\n",
              "                                                       min_weight_fraction_leaf=0.0,\n",
              "                                                       n_estimators=10,\n",
              "                                                       n_jobs=None,\n",
              "                                                       oo...\n",
              "                                                   solver='lbfgs', tol=0.0001,\n",
              "                                                   verbose=0,\n",
              "                                                   warm_start=False))],\n",
              "                   final_estimator=LogisticRegression(C=1.0, class_weight=None,\n",
              "                                                      dual=False,\n",
              "                                                      fit_intercept=True,\n",
              "                                                      intercept_scaling=1,\n",
              "                                                      l1_ratio=None,\n",
              "                                                      max_iter=2000,\n",
              "                                                      multi_class='auto',\n",
              "                                                      n_jobs=None, penalty='l2',\n",
              "                                                      random_state=None,\n",
              "                                                      solver='lbfgs',\n",
              "                                                      tol=0.0001, verbose=0,\n",
              "                                                      warm_start=False),\n",
              "                   n_jobs=None, passthrough=False, stack_method='auto',\n",
              "                   verbose=0)"
            ]
          },
          "metadata": {
            "tags": []
          },
          "execution_count": 15
        }
      ]
    },
    {
      "cell_type": "code",
      "metadata": {
        "id": "bE9S3W81yqT3"
      },
      "source": [
        "dff=pd.read_csv(\"/content/drive/MyDrive/Covishield_tweets.csv\",encoding=\"latin1\")\n"
      ],
      "execution_count": null,
      "outputs": []
    },
    {
      "cell_type": "code",
      "metadata": {
        "id": "k6Xb-kafcoZI"
      },
      "source": [
        "test_x=dff.iloc[:,4]\n",
        "test_x=clean_data(test_x)\n",
        "cvv = CountVectorizer(max_features = 2000)\n",
        "test_x = cvv.fit_transform(test_x).toarray()"
      ],
      "execution_count": null,
      "outputs": []
    },
    {
      "cell_type": "code",
      "metadata": {
        "id": "jDSiiRMAdpKQ"
      },
      "source": [
        "y_pred = model.predict(test_x)"
      ],
      "execution_count": null,
      "outputs": []
    },
    {
      "cell_type": "code",
      "metadata": {
        "colab": {
          "base_uri": "https://localhost:8080/"
        },
        "id": "CVKiEpOld1x2",
        "outputId": "8c4a22ee-b43e-4f4f-f7b7-8d75382646f6"
      },
      "source": [
        "print(y_pred)\n",
        "#converting the labels\n",
        "data_y=list(y_pred)\n",
        "#visualising the data we have\n",
        "num_neutral=0\n",
        "num_positive=0\n",
        "num_negative=0\n",
        "for i in data_y:\n",
        "    if(i==2):\n",
        "        num_neutral=num_neutral+1\n",
        "    elif(i==4):\n",
        "        num_positive=num_positive+1\n",
        "    else:\n",
        "        num_negative=num_negative+1"
      ],
      "execution_count": null,
      "outputs": [
        {
          "output_type": "stream",
          "text": [
            "[0 0 4 ... 4 4 4]\n"
          ],
          "name": "stdout"
        }
      ]
    },
    {
      "cell_type": "code",
      "metadata": {
        "colab": {
          "base_uri": "https://localhost:8080/",
          "height": 498
        },
        "id": "iortb2SrepEk",
        "outputId": "c1b7b395-ea85-4b28-d8b0-3ba4693de189"
      },
      "source": [
        "x = ['Negative Tweets','Neutral Tweets','Positive Tweets']\n",
        "fig = plt.figure(figsize = (10, 8)) \n",
        "plt.bar(x[0], num_negative, color ='pink', width = 0.2) \n",
        "#plt.bar(x[1], num_neutral, color ='pink', width = 0.2) \n",
        "plt.bar(x[2], num_positive, color ='green', width = 0.2) \n",
        "plt.xlabel(\"\") \n",
        "plt.ylabel(\"No of tweets\") \n",
        "plt.title(\"Comparing the Number of positive and negative tweets for covishield\") \n",
        "plt.show() "
      ],
      "execution_count": null,
      "outputs": [
        {
          "output_type": "display_data",
          "data": {
            "image/png": "[encoded data removed]",
            "text/plain": [
              "<Figure size 720x576 with 1 Axes>"
            ]
          },
          "metadata": {
            "tags": [],
            "needs_background": "light"
          }
        }
      ]
    },
    {
      "cell_type": "code",
      "metadata": {
        "colab": {
          "base_uri": "https://localhost:8080/"
        },
        "id": "CgJiRAUpg7wp",
        "outputId": "1527def0-59cc-45fe-c5f4-8c5e84ddc48a"
      },
      "source": [
        "test_x=dff.iloc[:,4]\n",
        "test_x=clean_data(test_x)"
      ],
      "execution_count": null,
      "outputs": [
        {
          "output_type": "stream",
          "text": [
            "['india', 'send', '', '', '', '', '', '', '', '', 'covishield', 'vaccines', 'srilanka', '', '', 'th', 'january', '', 'sl', 'president', 'gotabaya', 'rajapakse', 'announced', 'event', '']\n"
          ],
          "name": "stdout"
        }
      ]
    },
    {
      "cell_type": "code",
      "metadata": {
        "id": "7S-NHJnQk7C3"
      },
      "source": [
        "positive=list()\n",
        "negative=list()\n"
      ],
      "execution_count": null,
      "outputs": []
    }
  ]
}